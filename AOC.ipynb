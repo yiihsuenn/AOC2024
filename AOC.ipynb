{
 "cells": [
  {
   "cell_type": "code",
   "execution_count": 1,
   "id": "3448c8af",
   "metadata": {},
   "outputs": [],
   "source": [
    "import pandas as pd\n",
    "import numpy as np\n"
   ]
  },
  {
   "cell_type": "markdown",
   "id": "34555679",
   "metadata": {},
   "source": [
    "# D1"
   ]
  },
  {
   "cell_type": "markdown",
   "id": "3a42e1d7",
   "metadata": {},
   "source": [
    "Q1 (01Dec2024)"
   ]
  },
  {
   "cell_type": "code",
   "execution_count": 6,
   "id": "d5c6b95e",
   "metadata": {},
   "outputs": [],
   "source": [
    "df = pd.read_csv('data.csv', header=None)"
   ]
  },
  {
   "cell_type": "code",
   "execution_count": 7,
   "id": "4043a1c9",
   "metadata": {},
   "outputs": [
    {
     "data": {
      "text/html": [
       "<div>\n",
       "<style scoped>\n",
       "    .dataframe tbody tr th:only-of-type {\n",
       "        vertical-align: middle;\n",
       "    }\n",
       "\n",
       "    .dataframe tbody tr th {\n",
       "        vertical-align: top;\n",
       "    }\n",
       "\n",
       "    .dataframe thead th {\n",
       "        text-align: right;\n",
       "    }\n",
       "</style>\n",
       "<table border=\"1\" class=\"dataframe\">\n",
       "  <thead>\n",
       "    <tr style=\"text-align: right;\">\n",
       "      <th></th>\n",
       "      <th>0</th>\n",
       "    </tr>\n",
       "  </thead>\n",
       "  <tbody>\n",
       "    <tr>\n",
       "      <th>0</th>\n",
       "      <td>76569   66648</td>\n",
       "    </tr>\n",
       "    <tr>\n",
       "      <th>1</th>\n",
       "      <td>38663   66530</td>\n",
       "    </tr>\n",
       "    <tr>\n",
       "      <th>2</th>\n",
       "      <td>60350   60777</td>\n",
       "    </tr>\n",
       "    <tr>\n",
       "      <th>3</th>\n",
       "      <td>35330   13469</td>\n",
       "    </tr>\n",
       "    <tr>\n",
       "      <th>4</th>\n",
       "      <td>88681   66648</td>\n",
       "    </tr>\n",
       "    <tr>\n",
       "      <th>...</th>\n",
       "      <td>...</td>\n",
       "    </tr>\n",
       "    <tr>\n",
       "      <th>995</th>\n",
       "      <td>76809   13023</td>\n",
       "    </tr>\n",
       "    <tr>\n",
       "      <th>996</th>\n",
       "      <td>56403   10503</td>\n",
       "    </tr>\n",
       "    <tr>\n",
       "      <th>997</th>\n",
       "      <td>23533   40965</td>\n",
       "    </tr>\n",
       "    <tr>\n",
       "      <th>998</th>\n",
       "      <td>82416   74888</td>\n",
       "    </tr>\n",
       "    <tr>\n",
       "      <th>999</th>\n",
       "      <td>24373   20896</td>\n",
       "    </tr>\n",
       "  </tbody>\n",
       "</table>\n",
       "<p>1000 rows × 1 columns</p>\n",
       "</div>"
      ],
      "text/plain": [
       "                 0\n",
       "0    76569   66648\n",
       "1    38663   66530\n",
       "2    60350   60777\n",
       "3    35330   13469\n",
       "4    88681   66648\n",
       "..             ...\n",
       "995  76809   13023\n",
       "996  56403   10503\n",
       "997  23533   40965\n",
       "998  82416   74888\n",
       "999  24373   20896\n",
       "\n",
       "[1000 rows x 1 columns]"
      ]
     },
     "execution_count": 7,
     "metadata": {},
     "output_type": "execute_result"
    }
   ],
   "source": [
    "df"
   ]
  },
  {
   "cell_type": "code",
   "execution_count": 12,
   "id": "48464ff1",
   "metadata": {},
   "outputs": [],
   "source": [
    "df[['number1', 'number2']] = df[0].str.split(expand=True)\n"
   ]
  },
  {
   "cell_type": "code",
   "execution_count": 13,
   "id": "d4e98107",
   "metadata": {},
   "outputs": [
    {
     "data": {
      "text/html": [
       "<div>\n",
       "<style scoped>\n",
       "    .dataframe tbody tr th:only-of-type {\n",
       "        vertical-align: middle;\n",
       "    }\n",
       "\n",
       "    .dataframe tbody tr th {\n",
       "        vertical-align: top;\n",
       "    }\n",
       "\n",
       "    .dataframe thead th {\n",
       "        text-align: right;\n",
       "    }\n",
       "</style>\n",
       "<table border=\"1\" class=\"dataframe\">\n",
       "  <thead>\n",
       "    <tr style=\"text-align: right;\">\n",
       "      <th></th>\n",
       "      <th>0</th>\n",
       "      <th>number1</th>\n",
       "      <th>number2</th>\n",
       "    </tr>\n",
       "  </thead>\n",
       "  <tbody>\n",
       "    <tr>\n",
       "      <th>0</th>\n",
       "      <td>76569   66648</td>\n",
       "      <td>76569</td>\n",
       "      <td>66648</td>\n",
       "    </tr>\n",
       "    <tr>\n",
       "      <th>1</th>\n",
       "      <td>38663   66530</td>\n",
       "      <td>38663</td>\n",
       "      <td>66530</td>\n",
       "    </tr>\n",
       "    <tr>\n",
       "      <th>2</th>\n",
       "      <td>60350   60777</td>\n",
       "      <td>60350</td>\n",
       "      <td>60777</td>\n",
       "    </tr>\n",
       "    <tr>\n",
       "      <th>3</th>\n",
       "      <td>35330   13469</td>\n",
       "      <td>35330</td>\n",
       "      <td>13469</td>\n",
       "    </tr>\n",
       "    <tr>\n",
       "      <th>4</th>\n",
       "      <td>88681   66648</td>\n",
       "      <td>88681</td>\n",
       "      <td>66648</td>\n",
       "    </tr>\n",
       "    <tr>\n",
       "      <th>...</th>\n",
       "      <td>...</td>\n",
       "      <td>...</td>\n",
       "      <td>...</td>\n",
       "    </tr>\n",
       "    <tr>\n",
       "      <th>995</th>\n",
       "      <td>76809   13023</td>\n",
       "      <td>76809</td>\n",
       "      <td>13023</td>\n",
       "    </tr>\n",
       "    <tr>\n",
       "      <th>996</th>\n",
       "      <td>56403   10503</td>\n",
       "      <td>56403</td>\n",
       "      <td>10503</td>\n",
       "    </tr>\n",
       "    <tr>\n",
       "      <th>997</th>\n",
       "      <td>23533   40965</td>\n",
       "      <td>23533</td>\n",
       "      <td>40965</td>\n",
       "    </tr>\n",
       "    <tr>\n",
       "      <th>998</th>\n",
       "      <td>82416   74888</td>\n",
       "      <td>82416</td>\n",
       "      <td>74888</td>\n",
       "    </tr>\n",
       "    <tr>\n",
       "      <th>999</th>\n",
       "      <td>24373   20896</td>\n",
       "      <td>24373</td>\n",
       "      <td>20896</td>\n",
       "    </tr>\n",
       "  </tbody>\n",
       "</table>\n",
       "<p>1000 rows × 3 columns</p>\n",
       "</div>"
      ],
      "text/plain": [
       "                 0 number1 number2\n",
       "0    76569   66648   76569   66648\n",
       "1    38663   66530   38663   66530\n",
       "2    60350   60777   60350   60777\n",
       "3    35330   13469   35330   13469\n",
       "4    88681   66648   88681   66648\n",
       "..             ...     ...     ...\n",
       "995  76809   13023   76809   13023\n",
       "996  56403   10503   56403   10503\n",
       "997  23533   40965   23533   40965\n",
       "998  82416   74888   82416   74888\n",
       "999  24373   20896   24373   20896\n",
       "\n",
       "[1000 rows x 3 columns]"
      ]
     },
     "execution_count": 13,
     "metadata": {},
     "output_type": "execute_result"
    }
   ],
   "source": [
    "df"
   ]
  },
  {
   "cell_type": "code",
   "execution_count": 46,
   "id": "5dcd6425",
   "metadata": {},
   "outputs": [],
   "source": [
    "df_sorted1 = df.sort_values(by='number1', ascending=True)\n",
    "df1 = df_sorted1.drop(columns=[0, 'number2'])\n",
    "df1 = df1['number1'].reset_index(drop=True)\n",
    "\n",
    "df_sorted2 = df.sort_values(by='number2', ascending=True)\n",
    "df2 = df_sorted2.drop(columns=[0, 'number1'])\n",
    "df2 = df2['number2'].reset_index(drop=True)\n"
   ]
  },
  {
   "cell_type": "code",
   "execution_count": 49,
   "id": "6fdcdfc2",
   "metadata": {},
   "outputs": [
    {
     "data": {
      "text/html": [
       "<div>\n",
       "<style scoped>\n",
       "    .dataframe tbody tr th:only-of-type {\n",
       "        vertical-align: middle;\n",
       "    }\n",
       "\n",
       "    .dataframe tbody tr th {\n",
       "        vertical-align: top;\n",
       "    }\n",
       "\n",
       "    .dataframe thead th {\n",
       "        text-align: right;\n",
       "    }\n",
       "</style>\n",
       "<table border=\"1\" class=\"dataframe\">\n",
       "  <thead>\n",
       "    <tr style=\"text-align: right;\">\n",
       "      <th></th>\n",
       "      <th>number1</th>\n",
       "      <th>number2</th>\n",
       "    </tr>\n",
       "  </thead>\n",
       "  <tbody>\n",
       "    <tr>\n",
       "      <th>0</th>\n",
       "      <td>10053</td>\n",
       "      <td>10004</td>\n",
       "    </tr>\n",
       "    <tr>\n",
       "      <th>1</th>\n",
       "      <td>10073</td>\n",
       "      <td>10076</td>\n",
       "    </tr>\n",
       "    <tr>\n",
       "      <th>2</th>\n",
       "      <td>10269</td>\n",
       "      <td>10099</td>\n",
       "    </tr>\n",
       "    <tr>\n",
       "      <th>3</th>\n",
       "      <td>10341</td>\n",
       "      <td>10197</td>\n",
       "    </tr>\n",
       "    <tr>\n",
       "      <th>4</th>\n",
       "      <td>10463</td>\n",
       "      <td>10480</td>\n",
       "    </tr>\n",
       "    <tr>\n",
       "      <th>...</th>\n",
       "      <td>...</td>\n",
       "      <td>...</td>\n",
       "    </tr>\n",
       "    <tr>\n",
       "      <th>995</th>\n",
       "      <td>99405</td>\n",
       "      <td>98917</td>\n",
       "    </tr>\n",
       "    <tr>\n",
       "      <th>996</th>\n",
       "      <td>99530</td>\n",
       "      <td>99015</td>\n",
       "    </tr>\n",
       "    <tr>\n",
       "      <th>997</th>\n",
       "      <td>99574</td>\n",
       "      <td>99652</td>\n",
       "    </tr>\n",
       "    <tr>\n",
       "      <th>998</th>\n",
       "      <td>99634</td>\n",
       "      <td>99767</td>\n",
       "    </tr>\n",
       "    <tr>\n",
       "      <th>999</th>\n",
       "      <td>99877</td>\n",
       "      <td>99853</td>\n",
       "    </tr>\n",
       "  </tbody>\n",
       "</table>\n",
       "<p>1000 rows × 2 columns</p>\n",
       "</div>"
      ],
      "text/plain": [
       "    number1 number2\n",
       "0     10053   10004\n",
       "1     10073   10076\n",
       "2     10269   10099\n",
       "3     10341   10197\n",
       "4     10463   10480\n",
       "..      ...     ...\n",
       "995   99405   98917\n",
       "996   99530   99015\n",
       "997   99574   99652\n",
       "998   99634   99767\n",
       "999   99877   99853\n",
       "\n",
       "[1000 rows x 2 columns]"
      ]
     },
     "execution_count": 49,
     "metadata": {},
     "output_type": "execute_result"
    }
   ],
   "source": [
    "df_combined = pd.concat([df1, df2], axis=1)\n",
    "df_combined"
   ]
  },
  {
   "cell_type": "code",
   "execution_count": 47,
   "id": "cba50a04",
   "metadata": {},
   "outputs": [],
   "source": [
    "sum=0\n",
    "for i in range(0, len(df)):\n",
    "    x=int (df1[i])-int (df2[i])\n",
    "    if (x<0):\n",
    "        x=x*(-1)\n",
    "    sum=sum+x"
   ]
  },
  {
   "cell_type": "code",
   "execution_count": 48,
   "id": "e7a03944",
   "metadata": {},
   "outputs": [
    {
     "data": {
      "text/plain": [
       "3246517"
      ]
     },
     "execution_count": 48,
     "metadata": {},
     "output_type": "execute_result"
    }
   ],
   "source": [
    "sum"
   ]
  },
  {
   "cell_type": "markdown",
   "id": "2e412493",
   "metadata": {},
   "source": [
    "Q2 （01Dec2024)"
   ]
  },
  {
   "cell_type": "code",
   "execution_count": 51,
   "id": "86419bc1",
   "metadata": {},
   "outputs": [],
   "source": [
    "sum2=0\n",
    "for i in range(0, len(df)):\n",
    "    for j in range(0, len(df)):\n",
    "        count=0\n",
    "        if (df2[j] == df1[i]):\n",
    "            count+=1\n",
    "        sum2=sum2+int (df1[i])*count"
   ]
  },
  {
   "cell_type": "code",
   "execution_count": 52,
   "id": "555709d1",
   "metadata": {},
   "outputs": [
    {
     "data": {
      "text/plain": [
       "29379307"
      ]
     },
     "execution_count": 52,
     "metadata": {},
     "output_type": "execute_result"
    }
   ],
   "source": [
    "sum2"
   ]
  },
  {
   "cell_type": "markdown",
   "id": "8d49bbd0",
   "metadata": {},
   "source": [
    "# D2"
   ]
  },
  {
   "cell_type": "markdown",
   "id": "0b0d34a0",
   "metadata": {},
   "source": [
    "Q1 (02Dec2024)"
   ]
  },
  {
   "cell_type": "code",
   "execution_count": 5,
   "id": "898af687",
   "metadata": {},
   "outputs": [
    {
     "data": {
      "text/html": [
       "<div>\n",
       "<style scoped>\n",
       "    .dataframe tbody tr th:only-of-type {\n",
       "        vertical-align: middle;\n",
       "    }\n",
       "\n",
       "    .dataframe tbody tr th {\n",
       "        vertical-align: top;\n",
       "    }\n",
       "\n",
       "    .dataframe thead th {\n",
       "        text-align: right;\n",
       "    }\n",
       "</style>\n",
       "<table border=\"1\" class=\"dataframe\">\n",
       "  <thead>\n",
       "    <tr style=\"text-align: right;\">\n",
       "      <th></th>\n",
       "      <th>0</th>\n",
       "    </tr>\n",
       "  </thead>\n",
       "  <tbody>\n",
       "    <tr>\n",
       "      <th>0</th>\n",
       "      <td>40 42 44 47 49 50 48</td>\n",
       "    </tr>\n",
       "    <tr>\n",
       "      <th>1</th>\n",
       "      <td>65 67 70 71 72 75 75</td>\n",
       "    </tr>\n",
       "    <tr>\n",
       "      <th>2</th>\n",
       "      <td>74 76 78 81 83 85 87 91</td>\n",
       "    </tr>\n",
       "    <tr>\n",
       "      <th>3</th>\n",
       "      <td>73 76 79 81 82 85 86 91</td>\n",
       "    </tr>\n",
       "    <tr>\n",
       "      <th>4</th>\n",
       "      <td>64 67 69 70 68 71 72</td>\n",
       "    </tr>\n",
       "    <tr>\n",
       "      <th>...</th>\n",
       "      <td>...</td>\n",
       "    </tr>\n",
       "    <tr>\n",
       "      <th>995</th>\n",
       "      <td>56 59 61 64 65</td>\n",
       "    </tr>\n",
       "    <tr>\n",
       "      <th>996</th>\n",
       "      <td>49 48 45 44 42 40 38</td>\n",
       "    </tr>\n",
       "    <tr>\n",
       "      <th>997</th>\n",
       "      <td>66 65 63 60 58 56</td>\n",
       "    </tr>\n",
       "    <tr>\n",
       "      <th>998</th>\n",
       "      <td>38 41 43 44 47 50 53</td>\n",
       "    </tr>\n",
       "    <tr>\n",
       "      <th>999</th>\n",
       "      <td>2 3 4 6 9</td>\n",
       "    </tr>\n",
       "  </tbody>\n",
       "</table>\n",
       "<p>1000 rows × 1 columns</p>\n",
       "</div>"
      ],
      "text/plain": [
       "                           0\n",
       "0       40 42 44 47 49 50 48\n",
       "1       65 67 70 71 72 75 75\n",
       "2    74 76 78 81 83 85 87 91\n",
       "3    73 76 79 81 82 85 86 91\n",
       "4       64 67 69 70 68 71 72\n",
       "..                       ...\n",
       "995           56 59 61 64 65\n",
       "996     49 48 45 44 42 40 38\n",
       "997        66 65 63 60 58 56\n",
       "998     38 41 43 44 47 50 53\n",
       "999                2 3 4 6 9\n",
       "\n",
       "[1000 rows x 1 columns]"
      ]
     },
     "execution_count": 5,
     "metadata": {},
     "output_type": "execute_result"
    }
   ],
   "source": [
    "dfd2 = pd.read_csv('Day2Data.csv', header=None)\n",
    "dfd2"
   ]
  },
  {
   "cell_type": "code",
   "execution_count": 20,
   "id": "10f8ce68",
   "metadata": {},
   "outputs": [
    {
     "name": "stderr",
     "output_type": "stream",
     "text": [
      "C:\\Users\\Hsuen\\AppData\\Local\\Temp\\ipykernel_33984\\263813454.py:22: SettingWithCopyWarning: \n",
      "A value is trying to be set on a copy of a slice from a DataFrame\n",
      "\n",
      "See the caveats in the documentation: https://pandas.pydata.org/pandas-docs/stable/user_guide/indexing.html#returning-a-view-versus-a-copy\n",
      "  dfd2['safe'][i] = False\n",
      "C:\\Users\\Hsuen\\AppData\\Local\\Temp\\ipykernel_33984\\263813454.py:19: SettingWithCopyWarning: \n",
      "A value is trying to be set on a copy of a slice from a DataFrame\n",
      "\n",
      "See the caveats in the documentation: https://pandas.pydata.org/pandas-docs/stable/user_guide/indexing.html#returning-a-view-versus-a-copy\n",
      "  dfd2['safe'][i] = True\n"
     ]
    },
    {
     "data": {
      "text/plain": [
       "486"
      ]
     },
     "execution_count": 20,
     "metadata": {},
     "output_type": "execute_result"
    }
   ],
   "source": [
    "count = 0\n",
    "for i in range(len(dfd2)):\n",
    "    numbers = list(map(int, dfd2.iloc[i][0].split()))\n",
    "    safe = True\n",
    "    acs = sorted(numbers)\n",
    "    dsc = sorted(numbers, reverse=True)\n",
    "    if numbers == acs or numbers == dsc:\n",
    "        for j in range(len(numbers) - 1):\n",
    "            diff = numbers[j + 1] - numbers[j]\n",
    "            if -3 <= diff <= -1 or 1 <= diff <= 3:\n",
    "                continue\n",
    "            else:\n",
    "                safe = False\n",
    "                break\n",
    "    else:\n",
    "        safe = False\n",
    "\n",
    "    if safe:\n",
    "        dfd2['safe'][i] = True\n",
    "        count += 1\n",
    "    else:\n",
    "        dfd2['safe'][i] = False\n",
    "\n",
    "count"
   ]
  },
  {
   "cell_type": "code",
   "execution_count": 21,
   "id": "e51aebbd",
   "metadata": {},
   "outputs": [
    {
     "name": "stdout",
     "output_type": "stream",
     "text": [
      "                           0   safe\n",
      "0       40 42 44 47 49 50 48  False\n",
      "1       65 67 70 71 72 75 75  False\n",
      "2    74 76 78 81 83 85 87 91  False\n",
      "3    73 76 79 81 82 85 86 91  False\n",
      "4       64 67 69 70 68 71 72  False\n",
      "..                       ...    ...\n",
      "509           13 17 21 22 27  False\n",
      "510     78 71 70 67 65 60 57  False\n",
      "511        54 56 54 52 51 49  False\n",
      "512  47 53 54 55 56 57 58 65  False\n",
      "513     48 48 46 45 44 40 41  False\n",
      "\n",
      "[514 rows x 2 columns]\n"
     ]
    }
   ],
   "source": [
    "print(dfd2[dfd2['safe']==False])"
   ]
  },
  {
   "cell_type": "markdown",
   "id": "38bd090d",
   "metadata": {},
   "source": [
    "Q2 (02Dec2024)"
   ]
  },
  {
   "cell_type": "code",
   "execution_count": 22,
   "id": "c1f63f61",
   "metadata": {},
   "outputs": [
    {
     "data": {
      "text/plain": [
       "54"
      ]
     },
     "execution_count": 22,
     "metadata": {},
     "output_type": "execute_result"
    }
   ],
   "source": [
    "count2 = 0\n",
    "for i in range(len(dfd2)):\n",
    "    if (dfd2['safe'][i]==False):\n",
    "        numbers = list(map(int, dfd2.iloc[i][0].split()))\n",
    "        \n",
    "        for j in range(len(numbers)):\n",
    "            new_numbers = numbers.copy()\n",
    "            new_numbers.remove(new_numbers[j])\n",
    "            safe = True\n",
    "            acs = sorted(new_numbers)\n",
    "            dsc = sorted(new_numbers, reverse=True)\n",
    "            if new_numbers == acs or new_numbers == dsc:\n",
    "                for k in range(len(new_numbers) - 1):\n",
    "                    diff = new_numbers[k + 1] - new_numbers[k]\n",
    "                    if -3 <= diff <= -1 or 1 <= diff <= 3:\n",
    "                        continue\n",
    "                    else:\n",
    "                        safe = False\n",
    "                        break\n",
    "            else:\n",
    "                safe = False\n",
    "                \n",
    "            if safe:\n",
    "                count2 += 1\n",
    "                break\n",
    "count2"
   ]
  },
  {
   "cell_type": "code",
   "execution_count": 24,
   "id": "9a35a6c3",
   "metadata": {},
   "outputs": [
    {
     "data": {
      "text/plain": [
       "540"
      ]
     },
     "execution_count": 24,
     "metadata": {},
     "output_type": "execute_result"
    }
   ],
   "source": [
    "count+count2"
   ]
  },
  {
   "cell_type": "code",
   "execution_count": null,
   "id": "5da47ab0",
   "metadata": {},
   "outputs": [],
   "source": []
  }
 ],
 "metadata": {
  "kernelspec": {
   "display_name": "base",
   "language": "python",
   "name": "python3"
  },
  "language_info": {
   "codemirror_mode": {
    "name": "ipython",
    "version": 3
   },
   "file_extension": ".py",
   "mimetype": "text/x-python",
   "name": "python",
   "nbconvert_exporter": "python",
   "pygments_lexer": "ipython3",
   "version": "3.11.4"
  }
 },
 "nbformat": 4,
 "nbformat_minor": 5
}
